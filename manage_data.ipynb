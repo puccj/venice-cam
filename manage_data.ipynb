{
 "cells": [
  {
   "cell_type": "markdown",
   "metadata": {},
   "source": [
    "# Create correctly formatted label"
   ]
  },
  {
   "cell_type": "code",
   "execution_count": null,
   "metadata": {},
   "outputs": [],
   "source": [
    "# Add class label and bounding box size to CSV files\n",
    "\n",
    "import os\n",
    "import pandas as pd\n",
    "\n",
    "# Define the directory containing your CSV files\n",
    "directory = \"labels\"\n",
    "radius = 50     # width and height of bounding box\n",
    "original_width = 6016\n",
    "original_height = 4000\n",
    "\n",
    "# Loop through each file in the directory\n",
    "for filename in os.listdir(directory):\n",
    "    if filename.endswith(\".csv\"):\n",
    "        filepath = os.path.join(directory, filename)\n",
    "        \n",
    "        # Load the CSV file into a DataFrame\n",
    "        df = pd.read_csv(filepath)\n",
    "        \n",
    "        # Change index values to 0 (class label)\n",
    "        df[' '] = 0\n",
    "\n",
    "        df['X'] = df['X'] / original_width\n",
    "        df['Y'] = df['Y'] / original_height\n",
    "\n",
    "        # Add two columns with all values as radius\n",
    "        df['width'] = radius / original_width\n",
    "        df['height'] = radius / original_height\n",
    "        \n",
    "        # Save the modified DataFrame back to a CSV (without the header)\n",
    "        df.to_csv(filepath, index=False, header=False)\n"
   ]
  },
  {
   "cell_type": "code",
   "execution_count": null,
   "metadata": {},
   "outputs": [],
   "source": [
    "# Change .csv to .txt and replace commas with spaces\n",
    "for filename in os.listdir(directory):\n",
    "    if filename.endswith(\".csv\"):\n",
    "        new_filepath = os.path.join(directory, filename[:-4] + \".txt\")\n",
    "        os.rename(os.path.join(directory, filename), new_filepath)\n",
    "        with open(new_filepath, 'r') as file:\n",
    "            data = file.read()\n",
    "        data = data.replace(',', ' ')\n",
    "        with open(new_filepath, 'w') as file:\n",
    "            file.write(data)"
   ]
  },
  {
   "cell_type": "code",
   "execution_count": null,
   "metadata": {},
   "outputs": [
    {
     "name": "stdout",
     "output_type": "stream",
     "text": [
      "0 0.4985039893617021 0.087 0.0083111702127659 0.0125\n",
      "\n"
     ]
    }
   ],
   "source": [
    "# find duplicate rows in a txt file and print them\n",
    "filename = 'training/labels/train/img_000503.txt'\n",
    "if filename.endswith(\".txt\"):\n",
    "    with open(filename, 'r') as file:\n",
    "        data = file.readlines()\n",
    "    seen = set()\n",
    "    for line in data:\n",
    "        if line in seen:\n",
    "            print(line)\n",
    "            break\n",
    "        seen.add(line)\n"
   ]
  }
 ],
 "metadata": {
  "language_info": {
   "name": "python"
  }
 },
 "nbformat": 4,
 "nbformat_minor": 2
}
