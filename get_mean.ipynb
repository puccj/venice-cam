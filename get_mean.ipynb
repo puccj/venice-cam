{
 "cells": [
  {
   "cell_type": "code",
   "execution_count": null,
   "metadata": {},
   "outputs": [],
   "source": [
    "from torchvision import datasets, transforms\n",
    "from torch.utils.data import DataLoader\n",
    "import numpy as np\n",
    "from torchvision.datasets import ImageFolder\n",
    "\n",
    "def compute_mean_std(dataset, batch_size=100):\n",
    "    loader = DataLoader(dataset, batch_size=batch_size, shuffle=False)\n",
    "    mean = 0.0\n",
    "    std = 0.0\n",
    "    total_samples = 0\n",
    "\n",
    "    for images, _ in loader:\n",
    "        batch_samples = images.size(0)  # Number of images in the batch\n",
    "        images = images.view(batch_samples, images.size(1), -1)  # Flatten the images\n",
    "        mean += images.mean(2).mean(0)  # Mean per channel\n",
    "        std += images.std(2).std(0)  # Std per channel\n",
    "        total_samples += batch_samples\n",
    "\n",
    "    mean /= total_samples\n",
    "    std /= total_samples\n",
    "    return mean, std\n",
    "\n",
    "# Load a dataset (e.g., CIFAR-10) and compute mean and std\n",
    "# dataset = datasets.CIFAR10(root='./data', train=True, transform=transforms.ToTensor(), download=True)\n",
    "dataset = ImageFolder(root='data/belmonte_venice_img/Venezia_cc/test_data/images/')\n",
    "mean, std = compute_mean_std(dataset)\n",
    "print('Mean:', mean)\n",
    "print('Std:', std)\n"
   ]
  }
 ],
 "metadata": {
  "kernelspec": {
   "display_name": "software",
   "language": "python",
   "name": "python3"
  },
  "language_info": {
   "codemirror_mode": {
    "name": "ipython",
    "version": 3
   },
   "file_extension": ".py",
   "mimetype": "text/x-python",
   "name": "python",
   "nbconvert_exporter": "python",
   "pygments_lexer": "ipython3",
   "version": "3.12.4"
  }
 },
 "nbformat": 4,
 "nbformat_minor": 2
}
