{
 "cells": [
  {
   "cell_type": "markdown",
   "metadata": {},
   "source": [
    "# Save prediction as jet over image\n",
    "\n",
    "This is for video but applicable to images"
   ]
  },
  {
   "cell_type": "code",
   "execution_count": null,
   "metadata": {},
   "outputs": [],
   "source": [
    "import cv2 as cv\n",
    "from UNet.unet import UNet\n",
    "import torch\n",
    "import albumentations as A\n",
    "from albumentations.pytorch import ToTensorV2\n",
    "import numpy as np"
   ]
  },
  {
   "cell_type": "code",
   "execution_count": null,
   "metadata": {},
   "outputs": [],
   "source": [
    "VIDEO_PATH = 'input/jetson2_video_20180628-234507.mp4'      # scale\n",
    "# VIDEO_PATH = 'input/jetson4_video_20180628-170007.mp4'    # vicolo\n",
    "MODEL_PATH = 'models/700.pth'\n",
    "DEVICE = 'cuda' if torch.cuda.is_available() else 'cpu'"
   ]
  },
  {
   "cell_type": "code",
   "execution_count": null,
   "metadata": {},
   "outputs": [],
   "source": [
    "transform = A.Compose([\n",
    "    # A.Resize(752, 423),\n",
    "    ToTensorV2()\n",
    "])\n",
    "\n",
    "cap = cv.VideoCapture(VIDEO_PATH)\n",
    "\n",
    "# Load model\n",
    "model = UNet()\n",
    "checkpoint = torch.load(MODEL_PATH, weights_only=True)\n",
    "model.load_state_dict(checkpoint['model'])\n",
    "model.eval()\n",
    "model.to(DEVICE)\n",
    "print('Model loaded')"
   ]
  },
  {
   "cell_type": "code",
   "execution_count": null,
   "metadata": {},
   "outputs": [],
   "source": [
    "while cap.isOpened():\n",
    "    ret, orig_frame = cap.read()\n",
    "    if not ret:\n",
    "        break\n",
    "\n",
    "    cv.imshow('orig frame', orig_frame)\n",
    "\n",
    "    # Preprocess the frame\n",
    "\n",
    "    frame = cv.resize(orig_frame, (752, 423))\n",
    "    transformed = transform(image=frame)\n",
    "    frame = transformed['image']\n",
    "    # image_np = frame.permute(1, 2, 0).cpu().numpy()   # Optional: this step as image\n",
    "    # cv.imwrite('test_middle_save', image_np)\n",
    "    frame = frame.unsqueeze(0).float().to(DEVICE)\n",
    "\n",
    "\n",
    "    # Get preddiction from the model\n",
    "\n",
    "    with torch.no_grad():\n",
    "        pred = model(frame)\n",
    "        pred = torch.sigmoid(pred)\n",
    "        # pred = (pred > 0.5).float()\n",
    "        pred = pred.squeeze().cpu().numpy()\n",
    "    \n",
    "    # Visualize the prediction, by printing over the original frame (with alpha blending)\n",
    "\n",
    "    pred_viz = cv.resize(pred, (orig_frame.shape[1], orig_frame.shape[0]))\n",
    "    pred_viz = cv.cvtColor(pred_viz, cv.COLOR_GRAY2BGR)\n",
    "    pred_viz = (pred_viz * 255).astype(np.uint8)  # Ensure the type is CV_8UC3\n",
    "    pred_viz = cv.applyColorMap(pred_viz, cv.COLORMAP_JET)\n",
    "    pred_viz = pred_viz.astype(orig_frame.dtype)\n",
    "    pred_viz = cv.addWeighted(orig_frame.astype(pred_viz.dtype), 0.5, pred_viz, 0.5, 0)\n",
    "    cv.imshow('pred', pred_viz)\n",
    "\n",
    "    if cv.waitKey(0) & 0xFF == ord('q'):\n",
    "        break\n",
    "\n",
    "cap.release()\n",
    "cv.destroyAllWindows()"
   ]
  }
 ],
 "metadata": {
  "language_info": {
   "name": "python"
  }
 },
 "nbformat": 4,
 "nbformat_minor": 2
}
